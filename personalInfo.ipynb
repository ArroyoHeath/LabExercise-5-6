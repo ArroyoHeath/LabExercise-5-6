{
 "cells": [
  {
   "cell_type": "code",
   "execution_count": 2,
   "id": "governing-principal",
   "metadata": {},
   "outputs": [
    {
     "name": "stdin",
     "output_type": "stream",
     "text": [
      "What is your name? Heath\n",
      "What is your height in inches? 70\n",
      "How old are you? 18\n"
     ]
    },
    {
     "name": "stdout",
     "output_type": "stream",
     "text": [
      "Your name is Heath, you are 18 years old, and you are 70 inches tall.\n"
     ]
    }
   ],
   "source": [
    "name = input(prompt = \"What is your name?\")\n",
    "height = input(prompt = \"What is your height in inches?\")\n",
    "age = input(prompt = \"How old are you?\")\n",
    "print(\"Your name is \" + str(name) + \", you are \" + str(age) + \" years old, and you are \" + str(height) + \" inches tall.\")\n"
   ]
  }
 ],
 "metadata": {
  "kernelspec": {
   "display_name": "Python 3",
   "language": "python",
   "name": "python3"
  },
  "language_info": {
   "codemirror_mode": {
    "name": "ipython",
    "version": 3
   },
   "file_extension": ".py",
   "mimetype": "text/x-python",
   "name": "python",
   "nbconvert_exporter": "python",
   "pygments_lexer": "ipython3",
   "version": "3.8.5"
  }
 },
 "nbformat": 4,
 "nbformat_minor": 5
}
