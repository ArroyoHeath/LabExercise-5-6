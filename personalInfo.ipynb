{
 "cells": [
  {
   "cell_type": "code",
   "execution_count": null,
   "id": "boring-moisture",
   "metadata": {},
   "outputs": [],
   "source": [
    "name = input(prompt = \"What is your name?\")\n",
    "height = input(prompt = \"What is your height in inches?\")\n",
    "age = input(prompt = \"How old are you?\")\n",
    "print(\"Your name is \" + str(name) + \", you are \" + str(age) + \" years old, and you are \" + str(height) + \" inches tall.\")\n"
   ]
  }
 ],
 "metadata": {
  "kernelspec": {
   "display_name": "Python 3",
   "language": "python",
   "name": "python3"
  },
  "language_info": {
   "codemirror_mode": {
    "name": "ipython",
    "version": 3
   },
   "file_extension": ".py",
   "mimetype": "text/x-python",
   "name": "python",
   "nbconvert_exporter": "python",
   "pygments_lexer": "ipython3",
   "version": "3.8.5"
  }
 },
 "nbformat": 4,
 "nbformat_minor": 5
}
